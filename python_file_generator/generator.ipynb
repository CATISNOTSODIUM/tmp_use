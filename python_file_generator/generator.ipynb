{
 "cells": [
  {
   "cell_type": "markdown",
   "metadata": {},
   "source": [
    "<h4>Directory generator</h4>"
   ]
  },
  {
   "cell_type": "code",
   "execution_count": 11,
   "metadata": {},
   "outputs": [],
   "source": [
    "import os \n",
    "def create_dir(curr_path:str, dir_name:str):\n",
    "    try:\n",
    "        new_path = os.path.join(curr_path, dir_name)\n",
    "        os.mkdir(new_path)\n",
    "    except:\n",
    "        print(dir_name, \"has already been initialized\"); "
   ]
  },
  {
   "cell_type": "code",
   "execution_count": 13,
   "metadata": {},
   "outputs": [],
   "source": [
    "#current directory\n",
    "root_dir =  os.path.join(os.getcwd(), \"..\") \n",
    "asset_path = os.path.join(root_dir, \"assets\") "
   ]
  },
  {
   "cell_type": "code",
   "execution_count": 13,
   "metadata": {},
   "outputs": [],
   "source": [
    "#!pip install mdgen\n",
    "#!pip install mdprint\n",
    "from faker import Faker\n",
    "from mdgen import MarkdownPostProvider\n",
    "from mdprint import mdprint"
   ]
  },
  {
   "cell_type": "code",
   "execution_count": 14,
   "metadata": {},
   "outputs": [],
   "source": [
    "def generate_markdown(curr_path: str, file_name: str):\n",
    "    fake = Faker()\n",
    "    fake.add_provider(MarkdownPostProvider)\n",
    "    fake_post = fake.post(size='medium') # available sizes: 'small', 'medium', 'large'    \n",
    "    #generate files\n",
    "    with open(os.path.join(curr_path,file_name), 'w') as f:\n",
    "        mdprint( fake_post, heading=2, file=f)"
   ]
  },
  {
   "cell_type": "code",
   "execution_count": null,
   "metadata": {},
   "outputs": [],
   "source": []
  },
  {
   "cell_type": "markdown",
   "metadata": {},
   "source": [
    "<h3>DIRECTORY AND FILE CONVENTIONS</h3>\n",
    "competency_id (course): ABC-123 <br>\n",
    "skill_set_id: u32 <br>\n",
    "skill_id: u32 <br>"
   ]
  },
  {
   "cell_type": "code",
   "execution_count": 15,
   "metadata": {},
   "outputs": [],
   "source": [
    "def create_dir_from_tree(directory_tree, root, *args, **kwargs):\n",
    "    \n",
    "    #optional arguments (bool)\n",
    "    with_convention = kwargs.get(\"with_convention\") #follows the directory and file convention\n",
    "    with_seeds = kwargs.get(\"with_seeds\") \n",
    "    path_iter = root\n",
    "    \n",
    "    if (not with_convention):\n",
    "        for course_name in directory_tree:\n",
    "            \n",
    "            create_dir(path_iter, course_name)\n",
    "            course_path = os.path.join(path_iter,course_name)\n",
    "\n",
    "            for skill_set in directory_tree[course_name]:\n",
    "                \n",
    "                create_dir(course_path, skill_set)\n",
    "                skill_set_path = os.path.join(course_path,skill_set)\n",
    "            \n",
    "                for skill in directory_tree[course_name][skill_set]:\n",
    "                    \n",
    "                    create_dir(skill_set_path, skill)\n",
    "                    skill_path = os.path.join(skill_set_path,skill)\n",
    "                    \n",
    "                    for file_name in directory_tree[course_name][skill_set][skill]:\n",
    "                        #create random markdown\n",
    "                        if (with_seeds): generate_markdown(skill_path, file_name)\n",
    "    else: #follows convention\n",
    "        for course_name in directory_tree:\n",
    "            course_name_dir = course_name\n",
    "            create_dir(path_iter, course_name_dir)\n",
    "            course_path = os.path.join(path_iter,course_name_dir)\n",
    "\n",
    "            for skill_set in directory_tree[course_name]:\n",
    "                skill_set_dir = course_name + '_' + skill_set\n",
    "                create_dir(course_path, skill_set_dir)\n",
    "                skill_set_path = os.path.join(course_path,skill_set_dir)\n",
    "            \n",
    "                for skill in directory_tree[course_name][skill_set]:\n",
    "                    skill_dir = course_name + '_' + skill_set + '_'+skill\n",
    "                    create_dir(skill_set_path, skill_dir)\n",
    "                    skill_path = os.path.join(skill_set_path,skill_dir)\n",
    "                    \n",
    "                    for file_name in directory_tree[course_name][skill_set][skill]:\n",
    "                        #create random markdown\n",
    "                        generate_markdown(skill_path, file_name)\n"
   ]
  },
  {
   "cell_type": "markdown",
   "metadata": {},
   "source": [
    "<h1>Examples</h1>"
   ]
  },
  {
   "cell_type": "markdown",
   "metadata": {},
   "source": [
    "Example (Make sure to clear the ./assets directory before proceeding.)"
   ]
  },
  {
   "cell_type": "code",
   "execution_count": 23,
   "metadata": {},
   "outputs": [],
   "source": [
    "import json"
   ]
  },
  {
   "cell_type": "code",
   "execution_count": 24,
   "metadata": {},
   "outputs": [],
   "source": [
    "with open('../templates/sample1.json') as json_file:\n",
    "    directory_tree_example_2 = json.load(json_file)\n",
    "    "
   ]
  },
  {
   "cell_type": "code",
   "execution_count": 23,
   "metadata": {},
   "outputs": [
    {
     "name": "stdout",
     "output_type": "stream",
     "text": [
      "LIN-001 has already been initialized\n",
      "LIN-001_1024 has already been initialized\n",
      "LIN-001_1024_30 has already been initialized\n",
      "LIN-001_1024_27 has already been initialized\n",
      "LIN-001_1024_32 has already been initialized\n",
      "LIN-001_1025 has already been initialized\n",
      "LIN-001_1025_60 has already been initialized\n",
      "LIN-001_1026 has already been initialized\n",
      "LIN-001_1026_80 has already been initialized\n",
      "LIN-002 has already been initialized\n",
      "LIN-002_2001 has already been initialized\n",
      "LIN-002_2001_30 has already been initialized\n",
      "LIN-002_2001_27 has already been initialized\n",
      "LIN-002_2001_32 has already been initialized\n",
      "LIN-002_2002 has already been initialized\n",
      "LIN-002_2002_60 has already been initialized\n",
      "LIN-002_2003 has already been initialized\n",
      "LIN-002_2003_80 has already been initialized\n"
     ]
    }
   ],
   "source": [
    "create_dir_from_tree(directory_tree_example_2,asset_path, with_seeds = True, with_convention = True)"
   ]
  },
  {
   "cell_type": "markdown",
   "metadata": {},
   "source": [
    "Generate index.html display"
   ]
  },
  {
   "cell_type": "code",
   "execution_count": 6,
   "metadata": {},
   "outputs": [],
   "source": [
    "#!pip install dominate\n",
    "import glob \n",
    "import dominate\n",
    "from dominate.tags import *"
   ]
  },
  {
   "cell_type": "code",
   "execution_count": 53,
   "metadata": {},
   "outputs": [],
   "source": [
    "def generate_html(directory_tree, *args, **kwargs):\n",
    "    with_convention = kwargs.get(\"with_convention\") #follows the directory and file convention (bool)\n",
    "    \n",
    "    \n",
    "    path_iter = \"\"\n",
    "    prefix_link = \"http://localhost:3000/receiver/`?name=\"\n",
    "    if (with_convention):\n",
    "        doc = dominate.document(title='File directories')\n",
    "        with doc:\n",
    "            with div(id='header'):\n",
    "                attr(cls='body')\n",
    "                h2('File directories')\n",
    "            with div():\n",
    "                attr(cls='body')\n",
    "                for course_name in directory_tree:\n",
    "                    course_name_dir = course_name\n",
    "                    h3(course_name_dir)\n",
    "                    for skill_set in directory_tree[course_name]:\n",
    "                        skill_set_dir = course_name + '_' + skill_set\n",
    "                        h4(skill_set_dir)\n",
    "                        for skill in directory_tree[course_name][skill_set]:\n",
    "                            skill_dir = course_name + '_' + skill_set + '_'+skill\n",
    "                            p(skill_dir)\n",
    "                            for file_name in directory_tree[course_name][skill_set][skill]:\n",
    "                                li(a(file_name, href=os.path.join(prefix_link + course_name_dir, skill_set_dir, skill_dir, file_name)))\n",
    "    else:\n",
    "        doc = dominate.document(title='File directories')\n",
    "        with doc:\n",
    "            with div(id='header'):\n",
    "                attr(cls='body')\n",
    "                h2('File directories')\n",
    "            with div():\n",
    "                attr(cls='body')\n",
    "                for course_name in directory_tree:\n",
    "                    course_name_dir = course_name\n",
    "                    h3(course_name_dir)\n",
    "                    for skill_set in directory_tree[course_name]:\n",
    "                        skill_set_dir = skill_set\n",
    "                        h4(skill_set_dir)\n",
    "                        for skill in directory_tree[course_name][skill_set]:\n",
    "                            skill_dir = skill_set_dir\n",
    "                            p(skill_dir)\n",
    "                            for file_name in directory_tree[course_name][skill_set][skill]:\n",
    "                                li(a(file_name, href=os.path.join(prefix_link + course_name_dir, skill_set_dir, skill_dir, file_name)))\n",
    "    with open(os.path.join(asset_path,\"index.html\"), \"w\") as f:\n",
    "        f.write(doc.render())"
   ]
  },
  {
   "cell_type": "code",
   "execution_count": 52,
   "metadata": {},
   "outputs": [
    {
     "ename": "TypeError",
     "evalue": "generate_html() got an unexpected keyword argument 'with_convention'",
     "output_type": "error",
     "traceback": [
      "\u001b[0;31m---------------------------------------------------------------------------\u001b[0m",
      "\u001b[0;31mTypeError\u001b[0m                                 Traceback (most recent call last)",
      "\u001b[0;32m/tmp/ipykernel_127395/2801388466.py\u001b[0m in \u001b[0;36m<module>\u001b[0;34m\u001b[0m\n\u001b[0;32m----> 1\u001b[0;31m \u001b[0mgenerate_html\u001b[0m\u001b[0;34m(\u001b[0m\u001b[0mdirectory_tree_example_2\u001b[0m\u001b[0;34m,\u001b[0m \u001b[0mwith_convention\u001b[0m \u001b[0;34m=\u001b[0m \u001b[0;32mTrue\u001b[0m\u001b[0;34m)\u001b[0m\u001b[0;34m\u001b[0m\u001b[0;34m\u001b[0m\u001b[0m\n\u001b[0m",
      "\u001b[0;31mTypeError\u001b[0m: generate_html() got an unexpected keyword argument 'with_convention'"
     ]
    }
   ],
   "source": [
    "generate_html(directory_tree_example_2, with_convention = True)"
   ]
  }
 ],
 "metadata": {
  "kernelspec": {
   "display_name": "Python 3 (ipykernel)",
   "language": "python",
   "name": "python3"
  },
  "language_info": {
   "codemirror_mode": {
    "name": "ipython",
    "version": 3
   },
   "file_extension": ".py",
   "mimetype": "text/x-python",
   "name": "python",
   "nbconvert_exporter": "python",
   "pygments_lexer": "ipython3",
   "version": "3.10.12"
  }
 },
 "nbformat": 4,
 "nbformat_minor": 2
}
